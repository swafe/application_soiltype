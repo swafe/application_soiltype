{
  "nbformat": 4,
  "nbformat_minor": 0,
  "metadata": {
    "colab": {
      "name": "sort_sample_and_convert_polygon_json_to_png.ipynb",
      "provenance": [],
      "authorship_tag": "ABX9TyOh44nTPOFD79c7ms5nH/Mx",
      "include_colab_link": true
    },
    "kernelspec": {
      "name": "python3",
      "display_name": "Python 3"
    }
  },
  "cells": [
    {
      "cell_type": "markdown",
      "metadata": {
        "id": "view-in-github",
        "colab_type": "text"
      },
      "source": [
        "<a href=\"https://colab.research.google.com/github/swafe/Programms/blob/master/sort_sample_and_convert_polygon_json_to_png.ipynb\" target=\"_parent\"><img src=\"https://colab.research.google.com/assets/colab-badge.svg\" alt=\"Open In Colab\"/></a>"
      ]
    },
    {
      "cell_type": "markdown",
      "metadata": {
        "id": "Sg48fkapU0X6",
        "colab_type": "text"
      },
      "source": [
        "This script creates \n",
        "1. a new sorted json file, where the regions are sorted from top to bottom\n",
        "and \n",
        "2. cuts the detected regions from the original image and saves as e new cutted image. The new filename consists of the filename( image number, 'BKF', sample mumber/location) and sample id"
      ]
    },
    {
      "cell_type": "code",
      "metadata": {
        "id": "Lsomt_-PkaJJ",
        "colab_type": "code",
        "colab": {}
      },
      "source": [
        "import shutil\n",
        "import os\n",
        "\n",
        "import numpy as np\n",
        "import json \n",
        "\n",
        "from PIL import Image, ImageDraw\n"
      ],
      "execution_count": 89,
      "outputs": []
    },
    {
      "cell_type": "code",
      "metadata": {
        "id": "4C3medQETv5Y",
        "colab_type": "code",
        "colab": {}
      },
      "source": [
        "#falls git existiert löschen\n",
        "path_data = '/content/data'\n",
        "if os.path.exists(path_data):\n",
        "  print('g')\n",
        "  shutil.rmtree(path_data)\n",
        "  #os.remove(path_data)\n",
        "!git clone https://github.com/swafe/data.git"
      ],
      "execution_count": null,
      "outputs": []
    },
    {
      "cell_type": "code",
      "metadata": {
        "id": "7e7ezmn5m6Bn",
        "colab_type": "code",
        "colab": {}
      },
      "source": [
        "# some Methods\n",
        "\n",
        "def get_access_to_json(image_path):\n",
        "  image_name = os.path.splitext(os.path.basename(image_path))[0]\n",
        "  filename = os.path.basename(image_path)\n",
        "  img_size =  os.path.getsize(image_path)\n",
        "  filename_and_size = filename + str(img_size)\n",
        "  return filename_and_size, filename\n",
        "\n",
        "# Iterating through the json \n",
        "# list \n",
        "def get_points_label_from_json_as_array(data, image_path):\n",
        "  detected = []\n",
        "  sample_id = []\n",
        "  filename_and_size, filename = get_access_to_json(image_path)\n",
        "  for i in data[filename_and_size]['regions']: #[filename_and_size]: \n",
        "    # print(i)\n",
        "    points_x = i['shape_attributes']['all_points_x']\n",
        "    points_y = i['shape_attributes']['all_points_y']\n",
        "    sample_id_i = i[\"region_attributes\"] [\"sample\"]\n",
        "    # # für ImageDraw.Draw tuple erforderlich\n",
        "    points =[]\n",
        "    for i in range(0,len(points_x)):\n",
        "      points_i = (points_x[i],points_y[i])\n",
        "      points.append(points_i)\n",
        "\n",
        "    detected.append(points)\n",
        "    sample_id.append(sample_id_i)\n",
        "  # print(np.shape(detected))\n",
        "  return detected, filename_and_size, filename, sample_id\n"
      ],
      "execution_count": 108,
      "outputs": []
    },
    {
      "cell_type": "code",
      "metadata": {
        "id": "OtO_8LKGCJG0",
        "colab_type": "code",
        "colab": {}
      },
      "source": [
        "# Python program to read json file \n",
        "# change here !!!!!!\n",
        "path_test_dir = '/content/data/vgg_annotation/img_horizontal/project_8205_1/prepare_test_for_new_train_02/test'\n",
        "json_name = 'via_project_25Jun2020_22h5m_json.json'\n",
        "json_file_dir = os.path.join(path_test_dir, json_name) \n",
        "\n",
        "#get all images in path_test_dir\n",
        "image_paths = []\n",
        "for filename in sorted(os.listdir(path_test_dir), key=str.lower):\n",
        "    if os.path.splitext(filename)[1].lower() in ['.png', '.jpg', '.jpeg']:\n",
        "      image_paths.append(os.path.join(path_test_dir, filename))\n",
        "# Opening JSON file \n",
        "f = open(json_file_dir) \n",
        "# returns JSON object as a dictionary \n",
        "data = json.load(f) \n",
        "# Closing file \n",
        "f.close() "
      ],
      "execution_count": 92,
      "outputs": []
    },
    {
      "cell_type": "code",
      "metadata": {
        "id": "4souoaTxIDsF",
        "colab_type": "code",
        "colab": {}
      },
      "source": [
        "#sorting regions in json from upside to bottom\n",
        "# https://stackoverflow.com/questions/26924812/python-sort-list-of-json-by-value\n",
        "# Sorting objects doesn't make sense since object keys have no positional value. \n",
        "\n",
        "# // First create the array of keys/net_total so that we can sort it:\n",
        "#store\n",
        "data_sorted = data\n",
        "# i= 1\n",
        "# image_path = image_paths[i]\n",
        "for path_i in image_paths:\n",
        "#path_i = image_paths[2]\n",
        "\n",
        "\n",
        "  ## get points_x_all, points_y_all, sample_id\n",
        "  sample_id = []\n",
        "  points_x_all = []\n",
        "  points_y_all = []\n",
        "  regions_all=[]\n",
        "  # labels = []\n",
        "  filename_and_size, filename = get_access_to_json(path_i)\n",
        "\n",
        "  for i in data[filename_and_size]['regions']: #[filename_and_size]: \n",
        "      regions_all.append(i)\n",
        "  #    print(len(regions_all))\n",
        "  for i_regions in regions_all:\n",
        "      points_x =  i_regions['shape_attributes']['all_points_x']\n",
        "      points_y =  i_regions['shape_attributes']['all_points_y']\n",
        "      points_x_all.append(points_x)\n",
        "      points_y_all.append(points_y)\n",
        "\n",
        "  ##\n",
        "  # // Now sort it:\n",
        "  print(points_y_all)\n",
        "  points_y_all_first = []\n",
        "  for i_y in points_y_all:\n",
        "    points_y_all_first_i = i_y[0]\n",
        "    points_y_all_first.append(points_y_all_first_i)\n",
        "  print(points_y_all_first)\n",
        "  sort_index_min_to_max = np.argsort(points_y_all_first)#[::-1]\n",
        "  print(sort_index_min_to_max)\n",
        "  # create regions with new values\n",
        "  regions_mask_rois_adapted = []\n",
        "  i_sample = 0\n",
        "  for i_sort in sort_index_min_to_max:\n",
        "    regions_i_adapted = {\"shape_attributes\": {\n",
        "                                  \"name\": \"polygon\",\n",
        "                                  \"all_points_x\": points_x_all[i_sort], \n",
        "                                  \"all_points_y\": points_y_all[i_sort] },\n",
        "                                  \"region_attributes\": { \"sample\": int(i_sample)}}        \n",
        "    regions_mask_rois_adapted.append(regions_i_adapted)\n",
        "    i_sample = i_sample + 1\n",
        "  # annotation_json_via_format_rois_mask_adapted_i = {\n",
        "  #                   \"filename\": filename, \n",
        "  #                   \"size\": img_size, \n",
        "  #                   \"regions\": regions_mask_rois_adapted,\n",
        "  #                   \"file_attributes\": {}\n",
        "  #                   }\n",
        "  # update json with new regions\n",
        "  # annotation_json_via_format.update({filename_and_size : annotation_json_via_format_rois_mask_adapted_i})\n",
        "  data_sorted.update({filename_and_size:{\"regions\":regions_mask_rois_adapted}})\n",
        "# save annotation as json\n",
        "if True:\n",
        "  with open('result_masks_data_sorted.json', 'w') as fp:\n",
        "      json.dump(data_sorted, fp)"
      ],
      "execution_count": null,
      "outputs": []
    },
    {
      "cell_type": "code",
      "metadata": {
        "id": "n__aGV4-E0ai",
        "colab_type": "code",
        "colab": {}
      },
      "source": [
        "# cutting detected images \n",
        "# https://stackoverflow.com/questions/22588074/polygon-crop-clip-using-python-pil\n",
        "\n",
        "# read image as RGB and add alpha (transparency)\n",
        "for path_i in image_paths:\n",
        "  im = Image.open(path_i).convert(\"RGBA\")\n",
        "\n",
        "  # convert to numpy (for convenience)\n",
        "  imArray = np.asarray(im)\n",
        "  # create mask\n",
        "  detected, filename_and_size, filename, sample_id = get_points_label_from_json_as_array(data_sorted, path_i)\n",
        "\n",
        "  #polygon = [(444,203),(623,243),(691,177),(581,26),(482,42)]\n",
        "  for i in range(np.shape(detected)[0]):\n",
        "    sample_id_i = sample_id[i]\n",
        "    polygon = detected[i]\n",
        "    #print(polygon)\n",
        "    maskIm = Image.new('L', (imArray.shape[1], imArray.shape[0]), 0)\n",
        "    ImageDraw.Draw(maskIm).polygon(polygon, outline=1, fill=1)\n",
        "    mask = np.array(maskIm)\n",
        "\n",
        "    # assemble new image (uint8: 0-255)\n",
        "    newImArray = np.empty(imArray.shape,dtype='uint8')\n",
        "\n",
        "    # colors (three first columns, RGB)\n",
        "    newImArray[:,:,:3] = imArray[:,:,:3]\n",
        "\n",
        "    # transparency (4th column)\n",
        "    newImArray[:,:,3] = mask*255\n",
        "\n",
        "    # back to Image from numpy\n",
        "    newIm = Image.fromarray(newImArray, \"RGBA\")\n",
        "    # save snipped images in folder strukture, where snipped images are stored in folder named as origin image\n",
        "    if False: # True False\n",
        "      path = '/content/snipped_img/%s'%(filename)\n",
        "      print(path)\n",
        "      if not os.path.exists(path):\n",
        "        os.makedirs(path)\n",
        "      newIm.save(\"%s/%s.png\"%(path,i))\n",
        "\n",
        "    # save snipped image with name of originimage plus index\n",
        "    if True: # True False\n",
        "      path = '/content/snipped_img'\n",
        "      if not os.path.exists(path):\n",
        "        os.makedirs(path)\n",
        "      newIm.save(\"%s/%s%s.png\"%(path,filename,sample_id_i))\n",
        "      print(filename,sample_id_i)"
      ],
      "execution_count": null,
      "outputs": []
    },
    {
      "cell_type": "markdown",
      "metadata": {
        "id": "mC3vXFHZWoO6",
        "colab_type": "text"
      },
      "source": [
        "old code following "
      ]
    },
    {
      "cell_type": "code",
      "metadata": {
        "id": "qOi53iFDDGC-",
        "colab_type": "code",
        "colab": {}
      },
      "source": [
        "# delete folder \n",
        "# path_data = '/content/snipped_img'\n",
        "# if os.path.exists(path_data):\n",
        "#   print(path_data)\n",
        "#   shutil.rmtree(path_data)"
      ],
      "execution_count": 36,
      "outputs": []
    },
    {
      "cell_type": "code",
      "metadata": {
        "id": "j2CEPwwLACMs",
        "colab_type": "code",
        "colab": {}
      },
      "source": [
        "!zip -r /content/file.zip /content/snipped_img\n",
        "\n",
        "from google.colab import files\n",
        "files.download(\"/content/file.zip\")"
      ],
      "execution_count": null,
      "outputs": []
    },
    {
      "cell_type": "code",
      "metadata": {
        "id": "eP58bmBNEdAg",
        "colab_type": "code",
        "colab": {}
      },
      "source": [
        "# Python program to read/show images using matplotlib \n",
        "\n",
        "# importing matplotlib modules \n",
        "import matplotlib.image as mpimg \n",
        "import matplotlib.pyplot as plt \n",
        "# Read Images \n",
        "# img = mpimg.imread('/content/Img_0107BKF 18_11.jpg/0.png') \n",
        "img = plt.imread('/content/Img_0107BKF 18_11.jpg/0.png') \n",
        "# Output Images \n",
        "plt.imshow(img) \n"
      ],
      "execution_count": null,
      "outputs": []
    }
  ]
}